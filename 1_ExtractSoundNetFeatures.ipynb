{
 "cells": [
  {
   "cell_type": "code",
   "execution_count": 1,
   "metadata": {},
   "outputs": [],
   "source": [
    "#--mesure time\n",
    "import time \n",
    "#soundnet in pytorch\n",
    "import extract_features as ex\n",
    "import pandas as pd \n",
    "import librosa\n",
    "from tqdm import tqdm\n",
    "import numpy as np"
   ]
  },
  {
   "cell_type": "code",
   "execution_count": 2,
   "metadata": {},
   "outputs": [],
   "source": [
    "from sklearn.cluster import SpectralClustering\n",
    "import matplotlib.pyplot as plt\n",
    "%matplotlib inline\n",
    "plt.style.use('bmh')"
   ]
  },
  {
   "cell_type": "code",
   "execution_count": 3,
   "metadata": {},
   "outputs": [],
   "source": [
    "import numpy as np\n",
    "def extract_vector(features,layer):\n",
    "    # C : channel_output and H : Height\n",
    "    # Vector's shape (H,C)\n",
    "    C = features[layer][0].shape[0]    \n",
    "    print(\"Cout : \",C)\n",
    "    return (features[layer].reshape(C,-1).T)\n"
   ]
  },
  {
   "cell_type": "code",
   "execution_count": 4,
   "metadata": {},
   "outputs": [],
   "source": [
    "\n",
    "def extract_vectors(filepath):\n",
    "    audio,sr = ex.load_audio(filepath)\n",
    "    features = ex.extract_pytorch_feature(audio,'./sound8.pth')\n",
    "   \n",
    "    print([x.shape for x in features])\n",
    "    \n",
    "    ##extract vector\n",
    "    vectors = []\n",
    "    for idlayer in range(len(features)):\n",
    "        vectors.append(ex.extract_vector(features,idlayer)) #features vector \n",
    "    return vectors, len(audio)/sr"
   ]
  },
  {
   "cell_type": "code",
   "execution_count": 5,
   "metadata": {},
   "outputs": [],
   "source": [
    "#FUNCTION to align all features vectors\n",
    "\n",
    "def quantize_test(vector,idlayer, res, size):\n",
    "    to_layer = {}\n",
    "    for i in range(9):\n",
    "        to_layer[i] = \"conv{}\".format(i+1)\n",
    "\n",
    "    lim = int(size/res)\n",
    "    m,b = ex.get_values()[to_layer[idlayer]] #get slope (m) and interception (b) for a given layer\n",
    "    vectimes = (np.array(range(0,len(vector))))/m\n",
    "    maxtime = (len(vector))*(1/m)\n",
    "    alltimes = np.arange(0,maxtime,res)\n",
    "    qvec = []\n",
    "    for i,curtime in enumerate(alltimes[:-1]):\n",
    "        ind = np.argwhere((vectimes>=curtime) & (vectimes<alltimes[i+1]))\n",
    "        qvec.append(np.median(vector[ind],axis = 0).reshape(-1))\n",
    "    \n",
    "    data = (np.stack(qvec))\n",
    "    #meme taille\n",
    "    dif = lim - len(data)\n",
    "    if dif < 0:\n",
    "        data = data[:lim]\n",
    "    elif dif > 0:\n",
    "        x = np.tile(data[-1],(dif,1))\n",
    "        data = np.concatenate([data,x])        \n",
    "    return data\n",
    "    \n"
   ]
  },
  {
   "cell_type": "code",
   "execution_count": 7,
   "metadata": {},
   "outputs": [
    {
     "name": "stdout",
     "output_type": "stream",
     "text": [
      "time:  0.15762543678283691\n",
      "Tensor shape: torch.Size([1, 1, 62609408, 1])\n",
      "[(1, 16, 3913088, 1), (1, 32, 244568, 1), (1, 64, 122285, 1), (1, 128, 61143, 1), (1, 256, 7643, 1), (1, 512, 3822, 1), (1, 1024, 1912, 1), (1, 1000, 953, 1), (1, 401, 953, 1)]\n"
     ]
    }
   ],
   "source": [
    "filepath = 'sherlockaudio.wav'\n",
    "vector,size = extract_vectors(filepath)"
   ]
  },
  {
   "cell_type": "code",
   "execution_count": null,
   "metadata": {},
   "outputs": [],
   "source": [
    "#conv1 to con7è \n",
    "allfeatures = []\n",
    "for i in range(7):\n",
    "    feature = quantize_test(vector[i],i,1.5,size)\n",
    "    print(feature.shape)\n",
    "    np.savez_compressed('./soundnet_features/sherlock_pytorch/conv{}.npz'.format(i+1),fv = feature)"
   ]
  }
 ],
 "metadata": {
  "kernelspec": {
   "display_name": "Python 3",
   "language": "python",
   "name": "python3"
  },
  "language_info": {
   "codemirror_mode": {
    "name": "ipython",
    "version": 3
   },
   "file_extension": ".py",
   "mimetype": "text/x-python",
   "name": "python",
   "nbconvert_exporter": "python",
   "pygments_lexer": "ipython3",
   "version": "3.6.8"
  }
 },
 "nbformat": 4,
 "nbformat_minor": 2
}
