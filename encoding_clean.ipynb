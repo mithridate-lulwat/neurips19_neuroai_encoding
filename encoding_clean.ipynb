{
 "cells": [
  {
   "cell_type": "code",
   "execution_count": 1,
   "metadata": {},
   "outputs": [
    {
     "name": "stderr",
     "output_type": "stream",
     "text": [
      "/home/brain/miniconda3/lib/python3.7/site-packages/sklearn/externals/joblib/__init__.py:15: DeprecationWarning: sklearn.externals.joblib is deprecated in 0.21 and will be removed in 0.23. Please import this functionality directly from joblib, which can be installed with: pip install joblib. If this warning is raised when loading pickled models, you may need to re-serialize those models with scikit-learn 0.21+.\n",
      "  warnings.warn(msg, category=DeprecationWarning)\n"
     ]
    }
   ],
   "source": [
    "# nilearn imports\n",
    "from nilearn.plotting import plot_roi, plot_stat_map, plot_anat\n",
    "from nilearn.image import mean_img"
   ]
  },
  {
   "cell_type": "code",
   "execution_count": 2,
   "metadata": {},
   "outputs": [],
   "source": [
    "# sklearn imports\n",
    "from sklearn.model_selection import cross_validate, GridSearchCV, KFold\n",
    "from sklearn.neural_network import MLPRegressor\n",
    "from sklearn.metrics import r2_score"
   ]
  },
  {
   "cell_type": "code",
   "execution_count": 3,
   "metadata": {},
   "outputs": [],
   "source": [
    "# utility imports\n",
    "import numpy as np\n",
    "from matplotlib import pyplot as plt\n",
    "import os.path\n",
    "from joblib import dump, load\n",
    "import tqdm"
   ]
  },
  {
   "cell_type": "code",
   "execution_count": 4,
   "metadata": {},
   "outputs": [],
   "source": [
    "### Remove useless warnings from scikit learn\n",
    "\n",
    "def warn(*args, **kwargs):\n",
    "    pass\n",
    "import warnings\n",
    "warnings.warn = warn"
   ]
  },
  {
   "cell_type": "code",
   "execution_count": 5,
   "metadata": {},
   "outputs": [],
   "source": [
    "#### CHANGE THE PATH TO CORRESPOND TO THE PATH ON YOUR SYSTEM\n",
    "\n",
    "def initialize(movie):\n",
    "    # Generate folders for organized storage\n",
    "    folders = [\"fmri_mean_{}\", \"wards_{}\", \"fmri_ready_{}\", \"results\"]\n",
    "    for folder in folders :\n",
    "        folder_name = folder.format(movie)\n",
    "        try :\n",
    "            os.mkdir(folder_name)\n",
    "        except OSError :\n",
    "            print(\"Folder already exists, skipping creation ({})\".format(folder_name))\n",
    "        else :\n",
    "            print(\"Folder created  ({})\".format(folder_name))\n",
    "\n",
    "    result_folders = [\"results/{}_conv{}\".format(movie, id_layer) for id_layer in range(1,8)]\n",
    "    for result_folder in result_folders :\n",
    "        try :\n",
    "            os.mkdir(result_folder)\n",
    "        except OSError :\n",
    "            print(\"Folder already exists, skipping creation ({})\".format(result_folder))\n",
    "        else :\n",
    "            print(\"Folder created ({})\".format(result_folder))\n",
    "    \n",
    "    # Set the differents path to data and folders\n",
    "\n",
    "    # path to dataset of Sherlock or Merlin or TwilightZone\n",
    "    if movie in (\"sherlock\",\"merlin\"):\n",
    "        # fmri data location\n",
    "        \n",
    "        ### CHANGE\n",
    "        local_movie_path = \"/home/brain/datasets/SherlockMerlin_ds001110/\"\n",
    "        \n",
    "        # mask name\n",
    "        movie_mask =  \"{}Movie_bold_space-T1w_brainmask.nii.gz\".format(movie.capitalize())\n",
    "        \n",
    "        ### CHANGE\n",
    "        generic_mask_name = \"/home/brain/datasets/SherlockMerlin_ds001110/sub-{:02d}/func/sub-{:02d}_task-\" + movie_mask\n",
    "        \n",
    "        # fmri file name\n",
    "        generic_filename = \"sub-{:02d}_task-\" + \"{}Movie_bold_space-T1w_preproc.nii.gz\".format(movie.capitalize())\n",
    "        \n",
    "        # anat file name\n",
    "        ### CHANGE\n",
    "        anat_filename = \"/home/brain/victor/datasets/fmri_anat_{}/\".format(movie) + \"sub-{:02d}.nii.gz\"\n",
    "        \n",
    "    elif movie == \"twilight-zone\" :\n",
    "        # fmri data location\n",
    "        ### CHANGE\n",
    "        local_movie_path = \"/home/brain/victor/datasets/twilight-zone\"\n",
    "        \n",
    "        # there are no pre-existing masks\n",
    "        generic_mask_name = \"\"\n",
    "        \n",
    "        # fmri file name\n",
    "        generic_filename = \"sub-{:02d}_task-watchmovie_bold.nii.gz\"\n",
    "    else :\n",
    "        raise ValueError(\"The movie name has to be 'twilight-zone', 'merlin' or 'sherlock'\")\n",
    "\n",
    "        \n",
    "    # locate the folder containing feature vectors extracted from soundnet for the corresponding movie (merlin_pytorch or sherlock_pytorch\n",
    "    ### CHANGE\n",
    "    feature_folder = \"soundnet_features/{}_pytorch/\".format(movie)\n",
    "\n",
    "    # folder for storing the resulting r2 brain maps\n",
    "    folder_name = \"results/{}_\".format(movie)\n",
    "    result_folder = folder_name + \"conv{}/\"\n",
    "    \n",
    "    # Configure the subjects corresponding to the movie : \n",
    "    # Sherlock : [1,18]\\{5} \n",
    "    # Merlin : [19,37]\\{25}\n",
    "    # Twilight-zone : [1,25]\n",
    "    id_subjects = {\n",
    "    \"sherlock\": (1,18,5),\n",
    "    \"merlin\": (19,37,25),\n",
    "    \"twilight-zone\": (1,25,0)\n",
    "    }\n",
    "\n",
    "    sub_values = id_subjects[movie]\n",
    "    \n",
    "    return local_movie_path, generic_mask_name, generic_filename, anat_filename, feature_folder, result_folder, sub_values\n"
   ]
  },
  {
   "cell_type": "code",
   "execution_count": 6,
   "metadata": {},
   "outputs": [
    {
     "name": "stdout",
     "output_type": "stream",
     "text": [
      "Folder already exists, skipping creation (fmri_mean_sherlock)\n",
      "Folder already exists, skipping creation (wards_sherlock)\n",
      "Folder already exists, skipping creation (fmri_ready_sherlock)\n",
      "Folder already exists, skipping creation (results)\n",
      "Folder already exists, skipping creation (results/sherlock_conv1)\n",
      "Folder already exists, skipping creation (results/sherlock_conv2)\n",
      "Folder already exists, skipping creation (results/sherlock_conv3)\n",
      "Folder already exists, skipping creation (results/sherlock_conv4)\n",
      "Folder already exists, skipping creation (results/sherlock_conv5)\n",
      "Folder already exists, skipping creation (results/sherlock_conv6)\n",
      "Folder already exists, skipping creation (results/sherlock_conv7)\n"
     ]
    }
   ],
   "source": [
    "# Movie has to be 'sherlock', 'merlin' or 'twilight-zone'\n",
    "movie = 'sherlock'\n",
    "local_movie_path, generic_mask_name, generic_filename, anat_filename, feature_folder, result_folder, sub_values = initialize(movie)\n",
    "min_sub, max_sub, null_sub = sub_values"
   ]
  },
  {
   "cell_type": "markdown",
   "metadata": {},
   "source": [
    "# Define utility functions\n",
    "\n",
    "Used to load data more efficiently and in a modular manner"
   ]
  },
  {
   "cell_type": "code",
   "execution_count": 7,
   "metadata": {},
   "outputs": [],
   "source": [
    "from nilearn.regions import Parcellations\n",
    "from nilearn.input_data import NiftiMasker\n",
    "from nilearn.masking import compute_background_mask\n",
    "import os\n",
    "\n",
    "def parcellate(id_subject, n_frames, compute_mean = True, compute_ward = True, compute_ready = True):\n",
    "    # Compute the ward parcellation and other fmri data of a given subject and save it\n",
    "    \n",
    "    folder_name = \"sub-{:02d}/func\".format(id_subject)\n",
    "    subject_filename = generic_filename.format(id_subject)\n",
    "    fmri_file = os.path.join(local_movie_path,folder_name, subject_filename)\n",
    "\n",
    "    # Compute the mean of fmri accross time\n",
    "    if not os.path.isfile(\"fmri_mean_{}/sub-{:02d}.nii.gz\".format(movie, id_subject)) or compute_mean:\n",
    "        fmri_mean = mean_img(fmri_file)\n",
    "        fmri_mean.to_filename(\"fmri_mean_{}/sub-{:02d}.nii.gz\".format(movie, id_subject))\n",
    "        print(\"Saved mean fmri for subject {}\".format(id_subject))\n",
    "    else :\n",
    "        print(\"Mean fmri already exists for subject {}\".format(id_subject))\n",
    "        fmri_mean = \"fmri_mean_{}/sub-{:02d}.nii.gz\".format(movie, id_subject)\n",
    " \n",
    "    # Compute mask if the movie is twilight-zone \n",
    "    if movie == \"twilight-zone\":\n",
    "        print(\"Computing background mask\")\n",
    "        mask_img = compute_background_mask(fmri_file)\n",
    "    else :\n",
    "        print(\"Loading pre-generated mask\")\n",
    "        mask_img = generic_mask_name.format(id_subject,id_subject)\n",
    "    \n",
    "    # Compute ward parcellation\n",
    "    if not os.path.isfile(\"wards_{}/sub-{:02d}.nii.gz\".format(movie,id_subject)) or compute_ward:\n",
    "        masker = NiftiMasker(mask_img=mask_img, detrend=True,standardize=True)\n",
    "        masker.fit()\n",
    "        ward = Parcellations(method='ward',mask=masker,standardize=True,smoothing_fwhm=None,n_parcels=500)\n",
    "        ward.fit(fmri_file)\n",
    "        dump(ward, \"wards_{}/sub-{:02d}.nii.gz\".format(movie,id_subject))\n",
    "        print(\"Saved ward mask for subject {}\".format(id_subject))\n",
    "    else :\n",
    "        ward = load(\"wards_{}/sub-{:02d}.nii.gz\".format(movie,id_subject))\n",
    "        print(\"Ward mask exists for subject {}\".format(id_subject))\n",
    "\n",
    "     # Compute fmri_ready       \n",
    "    if not os.path.isfile(\"fmri_ready_{}/sub-{:02d}.npy\".format(movie, id_subject)) or compute_ready :\n",
    "        print(\"fmri_file : \", fmri_file)\n",
    "        fmri_data = ward.transform(fmri_file)\n",
    "        # Truncate the data because of an offset in the fmri (see dataset description)\n",
    "        if movie in (\"merlin, sherlock\"):\n",
    "            # 25 seconds of offset, and 1.5s per frame\n",
    "            fmri_ready = fmri_data[17:-(fmri_data.shape[0]-17-n_frames)]\n",
    "        else :\n",
    "            # 15 TR of offset, and 1.5s per frame\n",
    "            fmri_ready = fmri_data[15:-(fmri_data.shape[0]-15-n_frames)]\n",
    "        np.save(\"fmri_ready_{}/sub-{:02d}\".format(movie, id_subject), fmri_ready)    \n",
    "        print(\"Saved fmri_ready for subject {}\".format(id_subject))\n",
    "    else :\n",
    "        print(\"fmri_ready exists for subject {} and movie {}\".format(id_subject, movie))\n"
   ]
  },
  {
   "cell_type": "code",
   "execution_count": 8,
   "metadata": {},
   "outputs": [],
   "source": [
    "def load_feature_vector(id_layer) :\n",
    "    filename = \"conv{}.npz\".format(id_layer)\n",
    "    file_fv = os.path.join(feature_folder, filename)\n",
    "    fv = np.load(file_fv)['fv']\n",
    "    print(\"Loaded feature vector from {}\".format(file_fv))\n",
    "    # Check the size\n",
    "    n_frames = fv.shape[0]\n",
    "    print(\"layer {}, {} frames, FV dimension is {}\".format(id_layer,n_frames, fv.shape[1]))\n",
    "    return fv, n_frames"
   ]
  },
  {
   "cell_type": "code",
   "execution_count": 9,
   "metadata": {},
   "outputs": [],
   "source": [
    "def load_fmri_data(id_subject):\n",
    "    fmri_ready_path = \"fmri_ready_{}/sub-{:02d}.npy\".format(movie, id_subject)\n",
    "    fmri_ready = np.load(fmri_ready_path)\n",
    "    print(\"Loaded {}\".format(fmri_ready_path))\n",
    "    \n",
    "    fmri_mean_path = \"fmri_mean_{}/sub-{:02d}.nii.gz\".format(movie, id_subject)\n",
    "    print(\"Loaded {}\".format(fmri_mean_path))\n",
    "    \n",
    "    ward_path = \"wards_{}/sub-{:02d}.nii.gz\".format(movie, id_subject)\n",
    "    ward = load(ward_path)\n",
    "    print(\"Loaded {}\".format(ward_path))\n",
    "    \n",
    "    return fmri_ready, fmri_mean_path, ward"
   ]
  },
  {
   "cell_type": "code",
   "execution_count": 10,
   "metadata": {},
   "outputs": [],
   "source": [
    "def load_data(id_layer,id_subject): \n",
    "    X, _ = load_feature_vector(id_layer)\n",
    "    y, fmri_mean, ward = load_fmri_data(id_subject)\n",
    "    return X, y, fmri_mean, ward"
   ]
  },
  {
   "cell_type": "markdown",
   "metadata": {},
   "source": [
    "# Data preparation :\n",
    "We first have to pre-generate the data  that we will use repeatedly. \n",
    "We need the length of the feature vector to do so, which is why we use the corresponding function.\n",
    "We then proceed to generating all the needed data, one subject at a time.\n",
    "\n",
    "--- It should be noted that we do not have data for subject null_subject, which is why it is consistently skipped ---"
   ]
  },
  {
   "cell_type": "code",
   "execution_count": 19,
   "metadata": {},
   "outputs": [
    {
     "name": "stdout",
     "output_type": "stream",
     "text": [
      "Loaded feature vector from soundnet_features/sherlock_pytorch/conv7.npz\n",
      "layer 7, 946 frames, FV dimension is 1024\n",
      "Saved mean fmri for subject 1\n",
      "Loading pre-generated mask\n",
      "[MultiNiftiMasker.fit] Loading data from None\n",
      "[MultiNiftiMasker.transform] Resampling mask\n",
      "[Parcellations] Loading data\n",
      "[MultiNiftiMasker.transform_single_imgs] Loading data from Nifti1Image('/home/brain/datasets/SherlockMerlin_ds001110/sub-01/func/sub-01_task-SherlockMovie_bold_space-T1w_preproc.nii.gz')\n",
      "[MultiNiftiMasker.transform_single_imgs] Extracting region signals\n"
     ]
    },
    {
     "name": "stderr",
     "output_type": "stream",
     "text": [
      "\n",
      "KeyboardInterrupt\n",
      "\n"
     ]
    }
   ],
   "source": [
    "_, n_frames = load_feature_vector(7)\n",
    "for id_subject in range(min_sub,max_sub):\n",
    "    if id_subject != null_sub :\n",
    "        parcellate(id_subject, n_frames,compute_mean = True, compute_ward=True, compute_ready=True)"
   ]
  },
  {
   "cell_type": "markdown",
   "metadata": {},
   "source": [
    "# Model definition :\n",
    "We use an MLP on multiple folds, with early stopping enabled, and only one hidden layer"
   ]
  },
  {
   "cell_type": "code",
   "execution_count": 11,
   "metadata": {},
   "outputs": [],
   "source": [
    "def train(X, y, fmri_mean, ward, n_folds,id_layer, id_subject, alpha=0.0001, n_neurons = 1000, plot=False):\n",
    "    print(\"Training on subject {} and layer {} with {} folds and alpha = {}\".format(id_subject, id_layer, n_folds, alpha))\n",
    "    mlp_estimator = MLPRegressor(hidden_layer_sizes=(n_neurons,),solver='adam',activation='relu',\n",
    "                             max_iter=2000,learning_rate_init=0.001, alpha=alpha, \n",
    "                             batch_size=50,early_stopping=True,verbose=False, warm_start = False)\n",
    "    cv = KFold(n_splits = n_folds)\n",
    "    fold_number = 1\n",
    "    scores = []\n",
    "    for train_index, test_index in cv.split(X):\n",
    "        print(\"Subject {} Fold {},layer {} index = [{},{}], alpha={},neurons={} :\".format(id_subject,fold_number,id_layer, test_index[0], test_index[-1], alpha, n_neurons))\n",
    "        X_train, X_test = X[train_index], X[test_index]\n",
    "        y_train, y_test = y[train_index], y[test_index]\n",
    "        # warm_start is False so each train is fitted on a new MLP\n",
    "        mlp_estimator.fit(X_train, y_train) \n",
    "        predictions = mlp_estimator.predict(X_test)\n",
    "        # Compare predictions and truth, using the r2 metric\n",
    "        r2_scores = r2_score(y_test, predictions, multioutput=\"raw_values\")\n",
    "        r2_scores[r2_scores < 0 ] = 0\n",
    "        r2_max = np.max(r2_scores)\n",
    "        print(r2_max)\n",
    "        # Generate corresponding mapping with the brain\n",
    "        scores_img = ward.inverse_transform(r2_scores.reshape((1,-1)))\n",
    "        scores_img.to_filename(\"./{}/fold{}_sub{:02d}alpha{}_{}neurons.nii.gz\".format(layer_result_folder, fold_number, id_subject,alpha, n_neurons))\n",
    "        fmri_anat = anat_filename.format(id_subject)\n",
    "        if plot :\n",
    "            plot_stat_map(scores_img,bg_img=fmri_anat, title = \"{} neurons fold{} sub{:02d} alpha{}\".format(n_neurons,fold_number, id_subject, alpha))\n",
    "            plt.savefig(\"./{}/{}neurons_fold{}_sub{:02d}alpha{}_.png\".format(layer_result_folder, n_neurons,fold_number, id_subject, alpha))\n",
    "            plt.show()\n",
    "        fold_number += 1\n",
    "        scores.append(r2_max)\n",
    "    # scores is a list of length n_folds ,the  i-th element is the max r2 score (accross 500 parcels) for the i-th fold\n",
    "    return scores"
   ]
  },
  {
   "cell_type": "markdown",
   "metadata": {},
   "source": [
    "# Training and evaluation"
   ]
  },
  {
   "cell_type": "code",
   "execution_count": 12,
   "metadata": {},
   "outputs": [],
   "source": [
    "# Define the parameters\n",
    "\n",
    "hidden_layer_sizes = [1000]\n",
    "n_folds = 4"
   ]
  },
  {
   "cell_type": "code",
   "execution_count": null,
   "metadata": {},
   "outputs": [],
   "source": [
    "for id_layer in range(7,8):\n",
    "    #layer1-3 give non-significant results (10e-5)\n",
    "    # layer4 gives bigger results but still insignificant\n",
    "    print(\"Layer #{}\".format(id_layer))\n",
    "    layer_result_folder = result_folder.format(id_layer)\n",
    "    filename = \"{}_conv{}_scores.pkl\".format(movie, id_layer)\n",
    "    if filename in os.listdir(\".\") :\n",
    "        layer_scores = load(filename)\n",
    "    else: \n",
    "        layer_scores = {}\n",
    "    for n_neurons in hidden_layer_sizes :\n",
    "        print(\"Neurons {}\".format(n_neurons))\n",
    "        if n_neurons in layer_scores.keys():\n",
    "            neurons_scores = layer_scores[n_neurons]\n",
    "        else :\n",
    "            neurons_scores = {}\n",
    "        for id_subject in tqdm.tqdm(range(min_sub, max_sub)):\n",
    "            print(\"Subject {}\".format(id_subject))\n",
    "            if id_subject != null_sub :\n",
    "                X, y, fmri_mean, ward = load_data(id_layer,id_subject)\n",
    "                r2_scores = train(X, y, fmri_mean, ward, n_folds, id_layer, id_subject,0.0001, n_neurons, plot = True)\n",
    "            neurons_scores[id_subject] = list(r2_scores)\n",
    "        layer_scores[n_neurons] = dict(neurons_scores)\n",
    "        dump(layer_scores,filename) # The scores are stored in a dictionnary\n"
   ]
  },
  {
   "cell_type": "code",
   "execution_count": null,
   "metadata": {},
   "outputs": [],
   "source": []
  }
 ],
 "metadata": {
  "kernelspec": {
   "display_name": "Python 3",
   "language": "python",
   "name": "python3"
  },
  "language_info": {
   "codemirror_mode": {
    "name": "ipython",
    "version": 3
   },
   "file_extension": ".py",
   "mimetype": "text/x-python",
   "name": "python",
   "nbconvert_exporter": "python",
   "pygments_lexer": "ipython3",
   "version": "3.7.3"
  }
 },
 "nbformat": 4,
 "nbformat_minor": 4
}
